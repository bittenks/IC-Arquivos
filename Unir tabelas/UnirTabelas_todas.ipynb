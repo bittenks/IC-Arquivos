{
  "nbformat": 4,
  "nbformat_minor": 0,
  "metadata": {
    "colab": {
      "name": "UnirTabelas-todas.ipynb",
      "provenance": [],
      "collapsed_sections": [
        "wtVa2JF_s-K1",
        "cn1Fzv1DrrTz",
        "hj9eDYaysC7h",
        "6TKckBW3sL5h",
        "z7lXkmlwsagy",
        "9lUwpFLEskiG",
        "xVgdX8VJuAVG"
      ]
    },
    "kernelspec": {
      "name": "python3",
      "display_name": "Python 3"
    },
    "language_info": {
      "name": "python"
    }
  },
  "cells": [
    {
      "cell_type": "code",
      "metadata": {
        "id": "DzG35M77redG"
      },
      "source": [
        "!pip install -q xlrd"
      ],
      "execution_count": null,
      "outputs": []
    },
    {
      "cell_type": "code",
      "metadata": {
        "id": "LhnUvPqNoXJw"
      },
      "source": [
        "import pandas as pd\n",
        "import numpy as np"
      ],
      "execution_count": null,
      "outputs": []
    },
    {
      "cell_type": "markdown",
      "metadata": {
        "id": "wtVa2JF_s-K1"
      },
      "source": [
        "## Importações"
      ]
    },
    {
      "cell_type": "code",
      "metadata": {
        "id": "GNsLAijCk3h6"
      },
      "source": [
        "url1 = ('https://github.com/bittenks/unir-todas-tabelas/raw/main/tabelas/corn_br.xlsx')\n",
        "cornbr = pd.read_excel(url1)\n",
        "\n",
        "url2 = ('https://github.com/bittenks/unir-todas-tabelas/raw/main/tabelas/soybean_br.xlsx')\n",
        "soybeanbr = pd.read_excel(url2)\n",
        "\n",
        "url3 = ('https://github.com/bittenks/unir-todas-tabelas/raw/main/tabelas/cotton_br.xlsx')\n",
        "cottonbr = pd.read_excel(url3)\n",
        "\n",
        "url4 = ('https://github.com/bittenks/unir-todas-tabelas/raw/main/tabelas/wheat_br.xlsx')\n",
        "wheatbr = pd.read_excel(url4)\n",
        "\n",
        "url5 = ('https://github.com/bittenks/unir-todas-tabelas/raw/main/tabelas/AmercLatina_en.xlsx')\n",
        "americala = pd.read_excel(url5)\n",
        "\n",
        "url6 = ('https://github.com/bittenks/unir-todas-tabelas/raw/main/tabelas/Cepea_en.xlsx')\n",
        "cepeaen = pd.read_excel(url6)\n",
        "\n",
        "url7 = ('https://github.com/bittenks/unir-todas-tabelas/raw/main/tabelas/World_en.xlsx')\n",
        "worlden = pd.read_excel(url7)"
      ],
      "execution_count": null,
      "outputs": []
    },
    {
      "cell_type": "code",
      "metadata": {
        "id": "8HSvdmFMuTEv",
        "colab": {
          "base_uri": "https://localhost:8080/"
        },
        "outputId": "a7581ad9-e682-4010-fc1c-55015adbba15"
      },
      "source": [
        "cornbr.info()"
      ],
      "execution_count": null,
      "outputs": [
        {
          "output_type": "stream",
          "text": [
            "<class 'pandas.core.frame.DataFrame'>\n",
            "RangeIndex: 1481 entries, 0 to 1480\n",
            "Data columns (total 7 columns):\n",
            " #   Column         Non-Null Count  Dtype  \n",
            "---  ------         --------------  -----  \n",
            " 0   Date           1481 non-null   object \n",
            " 1   Text_Headline  1481 non-null   object \n",
            " 2   Text_Body      1479 non-null   object \n",
            " 3   Commodity      1481 non-null   object \n",
            " 4   Language       1481 non-null   object \n",
            " 5   Value          1481 non-null   float64\n",
            " 6   Label          1481 non-null   object \n",
            "dtypes: float64(1), object(6)\n",
            "memory usage: 81.1+ KB\n"
          ],
          "name": "stdout"
        }
      ]
    },
    {
      "cell_type": "code",
      "metadata": {
        "colab": {
          "base_uri": "https://localhost:8080/"
        },
        "id": "QxN8v_r2tGez",
        "outputId": "f7d5968d-c0dc-4fd6-c5b1-dd5d57e7875e"
      },
      "source": [
        "soybeanbr.info()"
      ],
      "execution_count": null,
      "outputs": [
        {
          "output_type": "stream",
          "text": [
            "<class 'pandas.core.frame.DataFrame'>\n",
            "RangeIndex: 1491 entries, 0 to 1490\n",
            "Data columns (total 7 columns):\n",
            " #   Column         Non-Null Count  Dtype  \n",
            "---  ------         --------------  -----  \n",
            " 0   Date           1491 non-null   object \n",
            " 1   Text_Headline  1491 non-null   object \n",
            " 2   Text_Body      1491 non-null   object \n",
            " 3   Commodity      1491 non-null   object \n",
            " 4   Language       1491 non-null   object \n",
            " 5   Value          1491 non-null   float64\n",
            " 6   Label          1491 non-null   object \n",
            "dtypes: float64(1), object(6)\n",
            "memory usage: 81.7+ KB\n"
          ],
          "name": "stdout"
        }
      ]
    },
    {
      "cell_type": "code",
      "metadata": {
        "colab": {
          "base_uri": "https://localhost:8080/"
        },
        "id": "Zp4oN_kStJ9U",
        "outputId": "1a44c19a-291b-4230-cb7c-2d33418e7d4e"
      },
      "source": [
        "cottonbr.info()"
      ],
      "execution_count": null,
      "outputs": [
        {
          "output_type": "stream",
          "text": [
            "<class 'pandas.core.frame.DataFrame'>\n",
            "RangeIndex: 727 entries, 0 to 726\n",
            "Data columns (total 7 columns):\n",
            " #   Column         Non-Null Count  Dtype  \n",
            "---  ------         --------------  -----  \n",
            " 0   Date           727 non-null    object \n",
            " 1   Text_Headline  727 non-null    object \n",
            " 2   Text_Body      725 non-null    object \n",
            " 3   Commodity      727 non-null    object \n",
            " 4   Language       727 non-null    object \n",
            " 5   Value          727 non-null    float64\n",
            " 6   Label          727 non-null    object \n",
            "dtypes: float64(1), object(6)\n",
            "memory usage: 39.9+ KB\n"
          ],
          "name": "stdout"
        }
      ]
    },
    {
      "cell_type": "code",
      "metadata": {
        "colab": {
          "base_uri": "https://localhost:8080/"
        },
        "id": "95ZClXyxtNe2",
        "outputId": "65e25469-a93f-48be-9739-840ba67898cb"
      },
      "source": [
        "wheatbr.info()"
      ],
      "execution_count": null,
      "outputs": [
        {
          "output_type": "stream",
          "text": [
            "<class 'pandas.core.frame.DataFrame'>\n",
            "RangeIndex: 477 entries, 0 to 476\n",
            "Data columns (total 7 columns):\n",
            " #   Column         Non-Null Count  Dtype  \n",
            "---  ------         --------------  -----  \n",
            " 0   Date           477 non-null    object \n",
            " 1   Text_Headline  477 non-null    object \n",
            " 2   Text_Body      475 non-null    object \n",
            " 3   Commodity      477 non-null    object \n",
            " 4   Language       477 non-null    object \n",
            " 5   Value          477 non-null    float64\n",
            " 6   Label          477 non-null    object \n",
            "dtypes: float64(1), object(6)\n",
            "memory usage: 26.2+ KB\n"
          ],
          "name": "stdout"
        }
      ]
    },
    {
      "cell_type": "code",
      "metadata": {
        "colab": {
          "base_uri": "https://localhost:8080/"
        },
        "id": "qlWDLmSGtPqU",
        "outputId": "17f1cb00-b05d-4afd-9b62-1d690a363d0e"
      },
      "source": [
        "americala.info()"
      ],
      "execution_count": null,
      "outputs": [
        {
          "output_type": "stream",
          "text": [
            "<class 'pandas.core.frame.DataFrame'>\n",
            "RangeIndex: 1253 entries, 0 to 1252\n",
            "Data columns (total 7 columns):\n",
            " #   Column         Non-Null Count  Dtype  \n",
            "---  ------         --------------  -----  \n",
            " 0   Date           1253 non-null   object \n",
            " 1   Text_Headline  1253 non-null   object \n",
            " 2   Text_Body      1252 non-null   object \n",
            " 3   Commodity      1253 non-null   object \n",
            " 4   Language       1253 non-null   object \n",
            " 5   Value          1253 non-null   float64\n",
            " 6   Label          1253 non-null   object \n",
            "dtypes: float64(1), object(6)\n",
            "memory usage: 68.6+ KB\n"
          ],
          "name": "stdout"
        }
      ]
    },
    {
      "cell_type": "code",
      "metadata": {
        "colab": {
          "base_uri": "https://localhost:8080/"
        },
        "id": "YRfgUK7NtR_8",
        "outputId": "6f5ffc2d-8df7-421d-f869-a2d1fa13aa7a"
      },
      "source": [
        "cepeaen.info()"
      ],
      "execution_count": null,
      "outputs": [
        {
          "output_type": "stream",
          "text": [
            "<class 'pandas.core.frame.DataFrame'>\n",
            "RangeIndex: 1743 entries, 0 to 1742\n",
            "Data columns (total 7 columns):\n",
            " #   Column         Non-Null Count  Dtype         \n",
            "---  ------         --------------  -----         \n",
            " 0   Date           1743 non-null   datetime64[ns]\n",
            " 1   Text_Headline  1743 non-null   object        \n",
            " 2   Text_Body      1743 non-null   object        \n",
            " 3   Commodity      1743 non-null   object        \n",
            " 4   Language       1743 non-null   object        \n",
            " 5   Value          1743 non-null   float64       \n",
            " 6   Label          1743 non-null   object        \n",
            "dtypes: datetime64[ns](1), float64(1), object(5)\n",
            "memory usage: 95.4+ KB\n"
          ],
          "name": "stdout"
        }
      ]
    },
    {
      "cell_type": "code",
      "metadata": {
        "colab": {
          "base_uri": "https://localhost:8080/"
        },
        "id": "1thZKVgYtWJ-",
        "outputId": "09f93f79-1a8f-4546-db05-3419507b72b7"
      },
      "source": [
        "worlden.info()"
      ],
      "execution_count": null,
      "outputs": [
        {
          "output_type": "stream",
          "text": [
            "<class 'pandas.core.frame.DataFrame'>\n",
            "RangeIndex: 2360 entries, 0 to 2359\n",
            "Data columns (total 7 columns):\n",
            " #   Column         Non-Null Count  Dtype         \n",
            "---  ------         --------------  -----         \n",
            " 0   Date           2360 non-null   datetime64[ns]\n",
            " 1   Text_Headline  2360 non-null   object        \n",
            " 2   Text_Body      2360 non-null   object        \n",
            " 3   Commodity      2360 non-null   object        \n",
            " 4   Language       2360 non-null   object        \n",
            " 5   Value          2360 non-null   float64       \n",
            " 6   Label          2360 non-null   object        \n",
            "dtypes: datetime64[ns](1), float64(1), object(5)\n",
            "memory usage: 129.2+ KB\n"
          ],
          "name": "stdout"
        }
      ]
    },
    {
      "cell_type": "markdown",
      "metadata": {
        "id": "cn1Fzv1DrrTz"
      },
      "source": [
        "### **Corn + Soybean**"
      ]
    },
    {
      "cell_type": "code",
      "metadata": {
        "id": "ZBrNw7QtgdFr",
        "colab": {
          "base_uri": "https://localhost:8080/",
          "height": 197
        },
        "outputId": "718149b5-9d68-407a-db62-34fc52b1e4b5"
      },
      "source": [
        "merge_corn_soy = pd.merge_ordered(cornbr, soybeanbr, fill_method=\"ffill\", left_by=\"Date\")\n",
        "merge_corn_soy "
      ],
      "execution_count": null,
      "outputs": [
        {
          "output_type": "error",
          "ename": "TypeError",
          "evalue": "ignored",
          "traceback": [
            "\u001b[0;31m---------------------------------------------------------------------------\u001b[0m",
            "\u001b[0;31mTypeError\u001b[0m                                 Traceback (most recent call last)",
            "\u001b[0;32m<ipython-input-11-c14348ef94b0>\u001b[0m in \u001b[0;36m<module>\u001b[0;34m()\u001b[0m\n\u001b[0;32m----> 1\u001b[0;31m \u001b[0mmerge_corn_soy\u001b[0m \u001b[0;34m=\u001b[0m \u001b[0mpd\u001b[0m\u001b[0;34m.\u001b[0m\u001b[0mmerge_ordered\u001b[0m\u001b[0;34m(\u001b[0m\u001b[0mcornbr\u001b[0m\u001b[0;34m,\u001b[0m \u001b[0msoybeanbr\u001b[0m\u001b[0;34m,\u001b[0m \u001b[0mfill_method\u001b[0m\u001b[0;34m=\u001b[0m\u001b[0;34m\"ffill\"\u001b[0m\u001b[0;34m,\u001b[0m \u001b[0mleft_by\u001b[0m\u001b[0;34m=\u001b[0m\u001b[0;34m\"Date\"\u001b[0m\u001b[0;34m,\u001b[0m \u001b[0mascending\u001b[0m\u001b[0;34m=\u001b[0m\u001b[0;32mTrue\u001b[0m\u001b[0;34m)\u001b[0m\u001b[0;34m\u001b[0m\u001b[0;34m\u001b[0m\u001b[0m\n\u001b[0m\u001b[1;32m      2\u001b[0m \u001b[0mmerge_corn_soy\u001b[0m\u001b[0;34m\u001b[0m\u001b[0;34m\u001b[0m\u001b[0m\n",
            "\u001b[0;31mTypeError\u001b[0m: merge_ordered() got an unexpected keyword argument 'ascending'"
          ]
        }
      ]
    },
    {
      "cell_type": "code",
      "metadata": {
        "colab": {
          "base_uri": "https://localhost:8080/"
        },
        "id": "FtQBIhQ0tZG3",
        "outputId": "9134a50c-be8c-4d22-dc3a-08bde89fc771"
      },
      "source": [
        "merge_corn_soy.info()"
      ],
      "execution_count": null,
      "outputs": [
        {
          "output_type": "stream",
          "text": [
            "<class 'pandas.core.frame.DataFrame'>\n",
            "RangeIndex: 2960 entries, 0 to 2959\n",
            "Data columns (total 7 columns):\n",
            " #   Column         Non-Null Count  Dtype  \n",
            "---  ------         --------------  -----  \n",
            " 0   Date           2960 non-null   object \n",
            " 1   Text_Headline  2960 non-null   object \n",
            " 2   Text_Body      2958 non-null   object \n",
            " 3   Commodity      2960 non-null   object \n",
            " 4   Language       2960 non-null   object \n",
            " 5   Value          2960 non-null   float64\n",
            " 6   Label          2960 non-null   object \n",
            "dtypes: float64(1), object(6)\n",
            "memory usage: 162.0+ KB\n"
          ],
          "name": "stdout"
        }
      ]
    },
    {
      "cell_type": "markdown",
      "metadata": {
        "id": "hj9eDYaysC7h"
      },
      "source": [
        "## **Cotton + Wheat**"
      ]
    },
    {
      "cell_type": "code",
      "metadata": {
        "id": "ew7Bn0g1pLWD",
        "colab": {
          "base_uri": "https://localhost:8080/",
          "height": 912
        },
        "outputId": "9f12874e-8285-4c34-a896-719cd7965dd5"
      },
      "source": [
        "merge_cot_wheat = pd.merge_ordered(cottonbr, wheatbr, fill_method=\"ffill\", left_by=\"Date\")\n",
        "merge_cot_wheat"
      ],
      "execution_count": null,
      "outputs": [
        {
          "output_type": "execute_result",
          "data": {
            "text/html": [
              "<div>\n",
              "<style scoped>\n",
              "    .dataframe tbody tr th:only-of-type {\n",
              "        vertical-align: middle;\n",
              "    }\n",
              "\n",
              "    .dataframe tbody tr th {\n",
              "        vertical-align: top;\n",
              "    }\n",
              "\n",
              "    .dataframe thead th {\n",
              "        text-align: right;\n",
              "    }\n",
              "</style>\n",
              "<table border=\"1\" class=\"dataframe\">\n",
              "  <thead>\n",
              "    <tr style=\"text-align: right;\">\n",
              "      <th></th>\n",
              "      <th>Date</th>\n",
              "      <th>Text_Headline</th>\n",
              "      <th>Text_Body</th>\n",
              "      <th>Commodity</th>\n",
              "      <th>Language</th>\n",
              "      <th>Value</th>\n",
              "      <th>Label</th>\n",
              "    </tr>\n",
              "  </thead>\n",
              "  <tbody>\n",
              "    <tr>\n",
              "      <th>0</th>\n",
              "      <td>30-12-2020</td>\n",
              "      <td>Algodão/Cepea: Mesmo com produção recorde e pa...</td>\n",
              "      <td>A produção e a exportação brasileiras de algod...</td>\n",
              "      <td>cotton</td>\n",
              "      <td>pt-br</td>\n",
              "      <td>380.75</td>\n",
              "      <td>Down</td>\n",
              "    </tr>\n",
              "    <tr>\n",
              "      <th>1</th>\n",
              "      <td>23-12-2020</td>\n",
              "      <td>Algodão/Cepea: spot segue lento, mas exportaçã...</td>\n",
              "      <td>Enquanto as negociações envolvendo algodão em ...</td>\n",
              "      <td>cotton</td>\n",
              "      <td>pt-br</td>\n",
              "      <td>380.53</td>\n",
              "      <td>Down</td>\n",
              "    </tr>\n",
              "    <tr>\n",
              "      <th>2</th>\n",
              "      <td>22-12-2020</td>\n",
              "      <td>Embrapa tem novas estratégias para atender mer...</td>\n",
              "      <td>“Acabou a fase da oferta tecnológica”. Essa fr...</td>\n",
              "      <td>cotton</td>\n",
              "      <td>pt-br</td>\n",
              "      <td>380.53</td>\n",
              "      <td>Down</td>\n",
              "    </tr>\n",
              "    <tr>\n",
              "      <th>3</th>\n",
              "      <td>22-12-2020</td>\n",
              "      <td>Trigo/Cepea: preços do cereal se estabilizam</td>\n",
              "      <td>A comercialização de trigo no mercado doméstic...</td>\n",
              "      <td>wheat</td>\n",
              "      <td>pt-br</td>\n",
              "      <td>1312.27</td>\n",
              "      <td>Up</td>\n",
              "    </tr>\n",
              "    <tr>\n",
              "      <th>4</th>\n",
              "      <td>18-12-2020</td>\n",
              "      <td>Algodão: plantio ultrapassa 50% em Goiás</td>\n",
              "      <td>Levantamento realizado até o dia 16 de dezembr...</td>\n",
              "      <td>cotton</td>\n",
              "      <td>pt-br</td>\n",
              "      <td>380.53</td>\n",
              "      <td>Up</td>\n",
              "    </tr>\n",
              "    <tr>\n",
              "      <th>...</th>\n",
              "      <td>...</td>\n",
              "      <td>...</td>\n",
              "      <td>...</td>\n",
              "      <td>...</td>\n",
              "      <td>...</td>\n",
              "      <td>...</td>\n",
              "      <td>...</td>\n",
              "    </tr>\n",
              "    <tr>\n",
              "      <th>951</th>\n",
              "      <td>23-01-2015</td>\n",
              "      <td>Semeadura de algodão chega a 57% da área em Ma...</td>\n",
              "      <td>A semeadura de algodão chegou a 57,49% da área...</td>\n",
              "      <td>cotton</td>\n",
              "      <td>pt-br</td>\n",
              "      <td>166.88</td>\n",
              "      <td>Down</td>\n",
              "    </tr>\n",
              "    <tr>\n",
              "      <th>952</th>\n",
              "      <td>21-01-2015</td>\n",
              "      <td>Algodão: Indústrias mais ativas sustentam merc...</td>\n",
              "      <td>A necessidade de novas aquisições por parte de...</td>\n",
              "      <td>cotton</td>\n",
              "      <td>pt-br</td>\n",
              "      <td>167.19</td>\n",
              "      <td>Down</td>\n",
              "    </tr>\n",
              "    <tr>\n",
              "      <th>953</th>\n",
              "      <td>20-01-2015</td>\n",
              "      <td>Pressão do bicudo do algodoeiro aumenta no iní...</td>\n",
              "      <td>Dados coletados por meio de monitoramento em a...</td>\n",
              "      <td>cotton</td>\n",
              "      <td>pt-br</td>\n",
              "      <td>167.22</td>\n",
              "      <td>Down</td>\n",
              "    </tr>\n",
              "    <tr>\n",
              "      <th>954</th>\n",
              "      <td>19-01-2015</td>\n",
              "      <td>Algodão: Mesmo com clima favorável para planti...</td>\n",
              "      <td>As chuvas abaixo da média em Mato Grosso na pr...</td>\n",
              "      <td>cotton</td>\n",
              "      <td>pt-br</td>\n",
              "      <td>167.07</td>\n",
              "      <td>Down</td>\n",
              "    </tr>\n",
              "    <tr>\n",
              "      <th>955</th>\n",
              "      <td>14-01-2015</td>\n",
              "      <td>Algodão: Cotação interna segue firme, mas expo...</td>\n",
              "      <td>As cotações de algodão estão firmes desde a pr...</td>\n",
              "      <td>cotton</td>\n",
              "      <td>pt-br</td>\n",
              "      <td>167.28</td>\n",
              "      <td>Down</td>\n",
              "    </tr>\n",
              "  </tbody>\n",
              "</table>\n",
              "<p>956 rows × 7 columns</p>\n",
              "</div>"
            ],
            "text/plain": [
              "           Date  ... Label\n",
              "0    30-12-2020  ...  Down\n",
              "1    23-12-2020  ...  Down\n",
              "2    22-12-2020  ...  Down\n",
              "3    22-12-2020  ...    Up\n",
              "4    18-12-2020  ...    Up\n",
              "..          ...  ...   ...\n",
              "951  23-01-2015  ...  Down\n",
              "952  21-01-2015  ...  Down\n",
              "953  20-01-2015  ...  Down\n",
              "954  19-01-2015  ...  Down\n",
              "955  14-01-2015  ...  Down\n",
              "\n",
              "[956 rows x 7 columns]"
            ]
          },
          "metadata": {
            "tags": []
          },
          "execution_count": 151
        }
      ]
    },
    {
      "cell_type": "code",
      "metadata": {
        "colab": {
          "base_uri": "https://localhost:8080/"
        },
        "id": "cCKhmikFtnp1",
        "outputId": "ec355ed6-c8bc-4903-d7ad-bb037c75b7be"
      },
      "source": [
        "merge_cot_wheat.info()"
      ],
      "execution_count": null,
      "outputs": [
        {
          "output_type": "stream",
          "text": [
            "<class 'pandas.core.frame.DataFrame'>\n",
            "RangeIndex: 956 entries, 0 to 955\n",
            "Data columns (total 7 columns):\n",
            " #   Column         Non-Null Count  Dtype  \n",
            "---  ------         --------------  -----  \n",
            " 0   Date           956 non-null    object \n",
            " 1   Text_Headline  956 non-null    object \n",
            " 2   Text_Body      953 non-null    object \n",
            " 3   Commodity      956 non-null    object \n",
            " 4   Language       956 non-null    object \n",
            " 5   Value          956 non-null    float64\n",
            " 6   Label          956 non-null    object \n",
            "dtypes: float64(1), object(6)\n",
            "memory usage: 52.4+ KB\n"
          ],
          "name": "stdout"
        }
      ]
    },
    {
      "cell_type": "markdown",
      "metadata": {
        "id": "6TKckBW3sL5h"
      },
      "source": [
        "## **(Corn + Sybean)+(Cotton+ Wheat)**"
      ]
    },
    {
      "cell_type": "code",
      "metadata": {
        "id": "meHZKdO4xp6Q"
      },
      "source": [
        "all_merge_table1 = pd.merge_ordered( merge_corn_soy, merge_cot_wheat, fill_method=\"ffill\", left_by=\"Date\")"
      ],
      "execution_count": null,
      "outputs": []
    },
    {
      "cell_type": "code",
      "metadata": {
        "colab": {
          "base_uri": "https://localhost:8080/",
          "height": 844
        },
        "id": "AFGikMmGx0AQ",
        "outputId": "fc5a5181-a2c2-438d-a250-599300a184fa"
      },
      "source": [
        "all_merge_table1"
      ],
      "execution_count": null,
      "outputs": [
        {
          "output_type": "execute_result",
          "data": {
            "text/html": [
              "<div>\n",
              "<style scoped>\n",
              "    .dataframe tbody tr th:only-of-type {\n",
              "        vertical-align: middle;\n",
              "    }\n",
              "\n",
              "    .dataframe tbody tr th {\n",
              "        vertical-align: top;\n",
              "    }\n",
              "\n",
              "    .dataframe thead th {\n",
              "        text-align: right;\n",
              "    }\n",
              "</style>\n",
              "<table border=\"1\" class=\"dataframe\">\n",
              "  <thead>\n",
              "    <tr style=\"text-align: right;\">\n",
              "      <th></th>\n",
              "      <th>Date</th>\n",
              "      <th>Text_Headline</th>\n",
              "      <th>Text_Body</th>\n",
              "      <th>Commodity</th>\n",
              "      <th>Language</th>\n",
              "      <th>Value</th>\n",
              "      <th>Label</th>\n",
              "    </tr>\n",
              "  </thead>\n",
              "  <tbody>\n",
              "    <tr>\n",
              "      <th>0</th>\n",
              "      <td>30-12-2020</td>\n",
              "      <td>Algodão/Cepea: Mesmo com produção recorde e pa...</td>\n",
              "      <td>A produção e a exportação brasileiras de algod...</td>\n",
              "      <td>cotton</td>\n",
              "      <td>pt-br</td>\n",
              "      <td>380.75</td>\n",
              "      <td>Down</td>\n",
              "    </tr>\n",
              "    <tr>\n",
              "      <th>1</th>\n",
              "      <td>30-12-2020</td>\n",
              "      <td>Preço do milho fecha 2020 em alta no Brasil; p...</td>\n",
              "      <td>A quarta-feira (30) chega ao final com os preç...</td>\n",
              "      <td>corn</td>\n",
              "      <td>pt-br</td>\n",
              "      <td>78.65</td>\n",
              "      <td>Down</td>\n",
              "    </tr>\n",
              "    <tr>\n",
              "      <th>2</th>\n",
              "      <td>30-12-2020</td>\n",
              "      <td>Soja acumula alta de quase 40% em 2020 e fecha...</td>\n",
              "      <td>Que 2020 para o mercado da soja, senhoras e se...</td>\n",
              "      <td>soybean</td>\n",
              "      <td>pt-br</td>\n",
              "      <td>144.89</td>\n",
              "      <td>down</td>\n",
              "    </tr>\n",
              "    <tr>\n",
              "      <th>3</th>\n",
              "      <td>29-12-2020</td>\n",
              "      <td>Milho: demandas pontuais e volumes pequenos im...</td>\n",
              "      <td>A terça-feira (29) chega ao final com os preço...</td>\n",
              "      <td>corn</td>\n",
              "      <td>pt-br</td>\n",
              "      <td>78.45</td>\n",
              "      <td>Up</td>\n",
              "    </tr>\n",
              "    <tr>\n",
              "      <th>4</th>\n",
              "      <td>29-12-2020</td>\n",
              "      <td>Soja testa os US$ 13/bushel na Bolsa de Chicag...</td>\n",
              "      <td>Se os US$ 13,00 por bushel eram uma meta para ...</td>\n",
              "      <td>soybean</td>\n",
              "      <td>pt-br</td>\n",
              "      <td>144.73</td>\n",
              "      <td>up</td>\n",
              "    </tr>\n",
              "    <tr>\n",
              "      <th>...</th>\n",
              "      <td>...</td>\n",
              "      <td>...</td>\n",
              "      <td>...</td>\n",
              "      <td>...</td>\n",
              "      <td>...</td>\n",
              "      <td>...</td>\n",
              "      <td>...</td>\n",
              "    </tr>\n",
              "    <tr>\n",
              "      <th>3905</th>\n",
              "      <td>07-01-2015</td>\n",
              "      <td>Milho: Queda na produção de etanol nos EUA pes...</td>\n",
              "      <td>Os principais vencimentos do milho negociados ...</td>\n",
              "      <td>corn</td>\n",
              "      <td>pt-br</td>\n",
              "      <td>28.10</td>\n",
              "      <td>Down</td>\n",
              "    </tr>\n",
              "    <tr>\n",
              "      <th>3906</th>\n",
              "      <td>07-01-2015</td>\n",
              "      <td>Soja: Preços sobem no Brasil e Rio Grande tem ...</td>\n",
              "      <td>Nesta quarta-feira (7), o mercado internaciona...</td>\n",
              "      <td>soybean</td>\n",
              "      <td>pt-br</td>\n",
              "      <td>62.02</td>\n",
              "      <td>down</td>\n",
              "    </tr>\n",
              "    <tr>\n",
              "      <th>3907</th>\n",
              "      <td>06-01-2015</td>\n",
              "      <td>Milho: Frente à expectativa de safra recorde n...</td>\n",
              "      <td>Em uma sessão de extrema volatilidade, os futu...</td>\n",
              "      <td>corn</td>\n",
              "      <td>pt-br</td>\n",
              "      <td>28.20</td>\n",
              "      <td>Down</td>\n",
              "    </tr>\n",
              "    <tr>\n",
              "      <th>3908</th>\n",
              "      <td>06-01-2015</td>\n",
              "      <td>Soja tem mais uma sessão positiva em Chicago e...</td>\n",
              "      <td>De um pregão de estabilidade para fechar o dia...</td>\n",
              "      <td>soybean</td>\n",
              "      <td>pt-br</td>\n",
              "      <td>62.29</td>\n",
              "      <td>down</td>\n",
              "    </tr>\n",
              "    <tr>\n",
              "      <th>3909</th>\n",
              "      <td>05-01-2015</td>\n",
              "      <td>Milho: Na CBOT, mercado encerra sessão com gan...</td>\n",
              "      <td>As cotações futuras do milho negociadas na Bol...</td>\n",
              "      <td>corn</td>\n",
              "      <td>pt-br</td>\n",
              "      <td>28.55</td>\n",
              "      <td>Down</td>\n",
              "    </tr>\n",
              "  </tbody>\n",
              "</table>\n",
              "<p>3910 rows × 7 columns</p>\n",
              "</div>"
            ],
            "text/plain": [
              "            Date  ... Label\n",
              "0     30-12-2020  ...  Down\n",
              "1     30-12-2020  ...  Down\n",
              "2     30-12-2020  ...  down\n",
              "3     29-12-2020  ...    Up\n",
              "4     29-12-2020  ...    up\n",
              "...          ...  ...   ...\n",
              "3905  07-01-2015  ...  Down\n",
              "3906  07-01-2015  ...  down\n",
              "3907  06-01-2015  ...  Down\n",
              "3908  06-01-2015  ...  down\n",
              "3909  05-01-2015  ...  Down\n",
              "\n",
              "[3910 rows x 7 columns]"
            ]
          },
          "metadata": {
            "tags": []
          },
          "execution_count": 154
        }
      ]
    },
    {
      "cell_type": "code",
      "metadata": {
        "colab": {
          "base_uri": "https://localhost:8080/"
        },
        "id": "3imlkeT4tt8w",
        "outputId": "8788b95d-a379-4b6b-8067-36a01071a7d7"
      },
      "source": [
        "all_merge_table1.info()"
      ],
      "execution_count": null,
      "outputs": [
        {
          "output_type": "stream",
          "text": [
            "<class 'pandas.core.frame.DataFrame'>\n",
            "RangeIndex: 3910 entries, 0 to 3909\n",
            "Data columns (total 7 columns):\n",
            " #   Column         Non-Null Count  Dtype  \n",
            "---  ------         --------------  -----  \n",
            " 0   Date           3910 non-null   object \n",
            " 1   Text_Headline  3910 non-null   object \n",
            " 2   Text_Body      3905 non-null   object \n",
            " 3   Commodity      3910 non-null   object \n",
            " 4   Language       3910 non-null   object \n",
            " 5   Value          3910 non-null   float64\n",
            " 6   Label          3910 non-null   object \n",
            "dtypes: float64(1), object(6)\n",
            "memory usage: 214.0+ KB\n"
          ],
          "name": "stdout"
        }
      ]
    },
    {
      "cell_type": "code",
      "metadata": {
        "id": "eeP4PeDOygQm"
      },
      "source": [
        "all_merge_table1.to_excel('all_merge.xlsx')#salvar em excel"
      ],
      "execution_count": null,
      "outputs": []
    },
    {
      "cell_type": "markdown",
      "metadata": {
        "id": "z7lXkmlwsagy"
      },
      "source": [
        "## **America Latina + Cepea**"
      ]
    },
    {
      "cell_type": "code",
      "metadata": {
        "colab": {
          "base_uri": "https://localhost:8080/",
          "height": 929
        },
        "id": "22tqh1W5oA6C",
        "outputId": "088fb110-6a72-4e6c-b14c-f152fb06fd1c"
      },
      "source": [
        "merge_americala_cepeaen = pd.merge_ordered(americala, cepeaen, fill_method=\"ffill\", left_by=\"Date\")\n",
        "merge_americala_cepeaen"
      ],
      "execution_count": null,
      "outputs": [
        {
          "output_type": "execute_result",
          "data": {
            "text/html": [
              "<div>\n",
              "<style scoped>\n",
              "    .dataframe tbody tr th:only-of-type {\n",
              "        vertical-align: middle;\n",
              "    }\n",
              "\n",
              "    .dataframe tbody tr th {\n",
              "        vertical-align: top;\n",
              "    }\n",
              "\n",
              "    .dataframe thead th {\n",
              "        text-align: right;\n",
              "    }\n",
              "</style>\n",
              "<table border=\"1\" class=\"dataframe\">\n",
              "  <thead>\n",
              "    <tr style=\"text-align: right;\">\n",
              "      <th></th>\n",
              "      <th>Date</th>\n",
              "      <th>Text_Headline</th>\n",
              "      <th>Text_Body</th>\n",
              "      <th>Commodity</th>\n",
              "      <th>Language</th>\n",
              "      <th>Value</th>\n",
              "      <th>Label</th>\n",
              "    </tr>\n",
              "  </thead>\n",
              "  <tbody>\n",
              "    <tr>\n",
              "      <th>0</th>\n",
              "      <td>2021-05-18</td>\n",
              "      <td>2021 U.S. Corn 80% planted vs. 68% avg., Soy 6...</td>\n",
              "      <td>U.S. farmers made good planting progress once ...</td>\n",
              "      <td>corn</td>\n",
              "      <td>En</td>\n",
              "      <td>103.23</td>\n",
              "      <td>down</td>\n",
              "    </tr>\n",
              "    <tr>\n",
              "      <th>1</th>\n",
              "      <td>2021-05-18</td>\n",
              "      <td>Only Limited Relief Forecasted for 2020/21 Bra...</td>\n",
              "      <td>The forecast is calling for some rain in the s...</td>\n",
              "      <td>corn</td>\n",
              "      <td>En</td>\n",
              "      <td>103.23</td>\n",
              "      <td>down</td>\n",
              "    </tr>\n",
              "    <tr>\n",
              "      <th>2</th>\n",
              "      <td>2021-05-14</td>\n",
              "      <td>Farmers in Mato Grosso have Sold 83% of their ...</td>\n",
              "      <td>According to the Mato Grosso Institute of Agri...</td>\n",
              "      <td>soybean</td>\n",
              "      <td>En</td>\n",
              "      <td>176.84</td>\n",
              "      <td>down</td>\n",
              "    </tr>\n",
              "    <tr>\n",
              "      <th>3</th>\n",
              "      <td>2021-05-13</td>\n",
              "      <td>Conab Lowers Brazil Corn Production 2.5 mt to ...</td>\n",
              "      <td>In their May Crop Report, Conab lowered the 20...</td>\n",
              "      <td>corn</td>\n",
              "      <td>En</td>\n",
              "      <td>101.79</td>\n",
              "      <td>down</td>\n",
              "    </tr>\n",
              "    <tr>\n",
              "      <th>4</th>\n",
              "      <td>2021-05-05</td>\n",
              "      <td>2020/21 Brazilian Safrinha Corn - Another Dry ...</td>\n",
              "      <td>There is a definite downward risk for the safr...</td>\n",
              "      <td>corn</td>\n",
              "      <td>En</td>\n",
              "      <td>100.24</td>\n",
              "      <td>down</td>\n",
              "    </tr>\n",
              "    <tr>\n",
              "      <th>...</th>\n",
              "      <td>...</td>\n",
              "      <td>...</td>\n",
              "      <td>...</td>\n",
              "      <td>...</td>\n",
              "      <td>...</td>\n",
              "      <td>...</td>\n",
              "      <td>...</td>\n",
              "    </tr>\n",
              "    <tr>\n",
              "      <th>1248</th>\n",
              "      <td>2014-01-16</td>\n",
              "      <td>Soybean Harvest Underway in Brazil's two Top P...</td>\n",
              "      <td>Harvesting of the 2013/14 Brazilian soybean cr...</td>\n",
              "      <td>soybean</td>\n",
              "      <td>En</td>\n",
              "      <td>73.34</td>\n",
              "      <td>up</td>\n",
              "    </tr>\n",
              "    <tr>\n",
              "      <th>1249</th>\n",
              "      <td>2014-01-16</td>\n",
              "      <td>Brazilian Farmers Undecided about Safrinha Cor...</td>\n",
              "      <td>Farmers in Mato Grosso are in the early stages...</td>\n",
              "      <td>corn</td>\n",
              "      <td>En</td>\n",
              "      <td>27.07</td>\n",
              "      <td>down</td>\n",
              "    </tr>\n",
              "    <tr>\n",
              "      <th>1250</th>\n",
              "      <td>2014-01-09</td>\n",
              "      <td>Brazilian Corn Acreage Losing out to Higher Pr...</td>\n",
              "      <td>Farmers all across Brazil opted for more soybe...</td>\n",
              "      <td>corn</td>\n",
              "      <td>En</td>\n",
              "      <td>22.51</td>\n",
              "      <td>down</td>\n",
              "    </tr>\n",
              "    <tr>\n",
              "      <th>1251</th>\n",
              "      <td>2014-01-07</td>\n",
              "      <td>Brazilian Farmers Advised to stay Vigilant abo...</td>\n",
              "      <td>As farmers in Mato Grosso start to harvest som...</td>\n",
              "      <td>soybean</td>\n",
              "      <td>En</td>\n",
              "      <td>69.72</td>\n",
              "      <td>up</td>\n",
              "    </tr>\n",
              "    <tr>\n",
              "      <th>1252</th>\n",
              "      <td>2014-01-07</td>\n",
              "      <td>Livestock Producers in Brazil Fear Diversion o...</td>\n",
              "      <td>Poultry and hog producers in southern Brazil a...</td>\n",
              "      <td>corn</td>\n",
              "      <td>En</td>\n",
              "      <td>24.46</td>\n",
              "      <td>down</td>\n",
              "    </tr>\n",
              "  </tbody>\n",
              "</table>\n",
              "<p>1253 rows × 7 columns</p>\n",
              "</div>"
            ],
            "text/plain": [
              "            Date  ... Label\n",
              "0     2021-05-18  ...  down\n",
              "1     2021-05-18  ...  down\n",
              "2     2021-05-14  ...  down\n",
              "3     2021-05-13  ...  down\n",
              "4     2021-05-05  ...  down\n",
              "...          ...  ...   ...\n",
              "1248  2014-01-16  ...    up\n",
              "1249  2014-01-16  ...  down\n",
              "1250  2014-01-09  ...  down\n",
              "1251  2014-01-07  ...    up\n",
              "1252  2014-01-07  ...  down\n",
              "\n",
              "[1253 rows x 7 columns]"
            ]
          },
          "metadata": {
            "tags": []
          },
          "execution_count": 157
        }
      ]
    },
    {
      "cell_type": "code",
      "metadata": {
        "colab": {
          "base_uri": "https://localhost:8080/"
        },
        "id": "KLRrXSrktyXw",
        "outputId": "4bbeae2d-ec37-4328-ccc6-e90d7df87931"
      },
      "source": [
        "merge_americala_cepeaen.info()"
      ],
      "execution_count": null,
      "outputs": [
        {
          "output_type": "stream",
          "text": [
            "<class 'pandas.core.frame.DataFrame'>\n",
            "RangeIndex: 1253 entries, 0 to 1252\n",
            "Data columns (total 7 columns):\n",
            " #   Column         Non-Null Count  Dtype  \n",
            "---  ------         --------------  -----  \n",
            " 0   Date           1253 non-null   object \n",
            " 1   Text_Headline  1253 non-null   object \n",
            " 2   Text_Body      1252 non-null   object \n",
            " 3   Commodity      1253 non-null   object \n",
            " 4   Language       1253 non-null   object \n",
            " 5   Value          1253 non-null   float64\n",
            " 6   Label          1253 non-null   object \n",
            "dtypes: float64(1), object(6)\n",
            "memory usage: 68.6+ KB\n"
          ],
          "name": "stdout"
        }
      ]
    },
    {
      "cell_type": "markdown",
      "metadata": {
        "id": "9lUwpFLEskiG"
      },
      "source": [
        "## **(America Latina + Cepeae) + World**"
      ]
    },
    {
      "cell_type": "code",
      "metadata": {
        "colab": {
          "base_uri": "https://localhost:8080/",
          "height": 929
        },
        "id": "rdw4qnlModd3",
        "outputId": "7eed2d01-3a57-43fb-87c3-00c81d53f7b7"
      },
      "source": [
        "all_merge_table2 = pd.merge_ordered(merge_americala_cepeaen, worlden, fill_method=\"ffill\", left_by=\"Date\")\n",
        "all_merge_table2"
      ],
      "execution_count": null,
      "outputs": [
        {
          "output_type": "execute_result",
          "data": {
            "text/html": [
              "<div>\n",
              "<style scoped>\n",
              "    .dataframe tbody tr th:only-of-type {\n",
              "        vertical-align: middle;\n",
              "    }\n",
              "\n",
              "    .dataframe tbody tr th {\n",
              "        vertical-align: top;\n",
              "    }\n",
              "\n",
              "    .dataframe thead th {\n",
              "        text-align: right;\n",
              "    }\n",
              "</style>\n",
              "<table border=\"1\" class=\"dataframe\">\n",
              "  <thead>\n",
              "    <tr style=\"text-align: right;\">\n",
              "      <th></th>\n",
              "      <th>Date</th>\n",
              "      <th>Text_Headline</th>\n",
              "      <th>Text_Body</th>\n",
              "      <th>Commodity</th>\n",
              "      <th>Language</th>\n",
              "      <th>Value</th>\n",
              "      <th>Label</th>\n",
              "    </tr>\n",
              "  </thead>\n",
              "  <tbody>\n",
              "    <tr>\n",
              "      <th>0</th>\n",
              "      <td>2021-05-18</td>\n",
              "      <td>2021 U.S. Corn 80% planted vs. 68% avg., Soy 6...</td>\n",
              "      <td>U.S. farmers made good planting progress once ...</td>\n",
              "      <td>corn</td>\n",
              "      <td>En</td>\n",
              "      <td>103.23</td>\n",
              "      <td>down</td>\n",
              "    </tr>\n",
              "    <tr>\n",
              "      <th>1</th>\n",
              "      <td>2021-05-18</td>\n",
              "      <td>Only Limited Relief Forecasted for 2020/21 Bra...</td>\n",
              "      <td>The forecast is calling for some rain in the s...</td>\n",
              "      <td>corn</td>\n",
              "      <td>En</td>\n",
              "      <td>103.23</td>\n",
              "      <td>down</td>\n",
              "    </tr>\n",
              "    <tr>\n",
              "      <th>2</th>\n",
              "      <td>2021-05-14</td>\n",
              "      <td>Farmers in Mato Grosso have Sold 83% of their ...</td>\n",
              "      <td>According to the Mato Grosso Institute of Agri...</td>\n",
              "      <td>soybean</td>\n",
              "      <td>En</td>\n",
              "      <td>176.84</td>\n",
              "      <td>down</td>\n",
              "    </tr>\n",
              "    <tr>\n",
              "      <th>3</th>\n",
              "      <td>2021-05-13</td>\n",
              "      <td>Conab Lowers Brazil Corn Production 2.5 mt to ...</td>\n",
              "      <td>In their May Crop Report, Conab lowered the 20...</td>\n",
              "      <td>corn</td>\n",
              "      <td>En</td>\n",
              "      <td>101.79</td>\n",
              "      <td>down</td>\n",
              "    </tr>\n",
              "    <tr>\n",
              "      <th>4</th>\n",
              "      <td>2021-05-05</td>\n",
              "      <td>2020/21 Brazilian Safrinha Corn - Another Dry ...</td>\n",
              "      <td>There is a definite downward risk for the safr...</td>\n",
              "      <td>corn</td>\n",
              "      <td>En</td>\n",
              "      <td>100.24</td>\n",
              "      <td>down</td>\n",
              "    </tr>\n",
              "    <tr>\n",
              "      <th>...</th>\n",
              "      <td>...</td>\n",
              "      <td>...</td>\n",
              "      <td>...</td>\n",
              "      <td>...</td>\n",
              "      <td>...</td>\n",
              "      <td>...</td>\n",
              "      <td>...</td>\n",
              "    </tr>\n",
              "    <tr>\n",
              "      <th>1248</th>\n",
              "      <td>2014-01-16</td>\n",
              "      <td>Soybean Harvest Underway in Brazil's two Top P...</td>\n",
              "      <td>Harvesting of the 2013/14 Brazilian soybean cr...</td>\n",
              "      <td>soybean</td>\n",
              "      <td>En</td>\n",
              "      <td>73.34</td>\n",
              "      <td>up</td>\n",
              "    </tr>\n",
              "    <tr>\n",
              "      <th>1249</th>\n",
              "      <td>2014-01-16</td>\n",
              "      <td>Brazilian Farmers Undecided about Safrinha Cor...</td>\n",
              "      <td>Farmers in Mato Grosso are in the early stages...</td>\n",
              "      <td>corn</td>\n",
              "      <td>En</td>\n",
              "      <td>27.07</td>\n",
              "      <td>down</td>\n",
              "    </tr>\n",
              "    <tr>\n",
              "      <th>1250</th>\n",
              "      <td>2014-01-09</td>\n",
              "      <td>Brazilian Corn Acreage Losing out to Higher Pr...</td>\n",
              "      <td>Farmers all across Brazil opted for more soybe...</td>\n",
              "      <td>corn</td>\n",
              "      <td>En</td>\n",
              "      <td>22.51</td>\n",
              "      <td>down</td>\n",
              "    </tr>\n",
              "    <tr>\n",
              "      <th>1251</th>\n",
              "      <td>2014-01-07</td>\n",
              "      <td>Brazilian Farmers Advised to stay Vigilant abo...</td>\n",
              "      <td>As farmers in Mato Grosso start to harvest som...</td>\n",
              "      <td>soybean</td>\n",
              "      <td>En</td>\n",
              "      <td>69.72</td>\n",
              "      <td>up</td>\n",
              "    </tr>\n",
              "    <tr>\n",
              "      <th>1252</th>\n",
              "      <td>2014-01-07</td>\n",
              "      <td>Livestock Producers in Brazil Fear Diversion o...</td>\n",
              "      <td>Poultry and hog producers in southern Brazil a...</td>\n",
              "      <td>corn</td>\n",
              "      <td>En</td>\n",
              "      <td>24.46</td>\n",
              "      <td>down</td>\n",
              "    </tr>\n",
              "  </tbody>\n",
              "</table>\n",
              "<p>1253 rows × 7 columns</p>\n",
              "</div>"
            ],
            "text/plain": [
              "            Date  ... Label\n",
              "0     2021-05-18  ...  down\n",
              "1     2021-05-18  ...  down\n",
              "2     2021-05-14  ...  down\n",
              "3     2021-05-13  ...  down\n",
              "4     2021-05-05  ...  down\n",
              "...          ...  ...   ...\n",
              "1248  2014-01-16  ...    up\n",
              "1249  2014-01-16  ...  down\n",
              "1250  2014-01-09  ...  down\n",
              "1251  2014-01-07  ...    up\n",
              "1252  2014-01-07  ...  down\n",
              "\n",
              "[1253 rows x 7 columns]"
            ]
          },
          "metadata": {
            "tags": []
          },
          "execution_count": 159
        }
      ]
    },
    {
      "cell_type": "code",
      "metadata": {
        "colab": {
          "base_uri": "https://localhost:8080/"
        },
        "id": "hT2LdWXft4BA",
        "outputId": "b3a159c9-1365-4f2a-de17-6d810b7fe849"
      },
      "source": [
        "all_merge_table2.info()"
      ],
      "execution_count": null,
      "outputs": [
        {
          "output_type": "stream",
          "text": [
            "<class 'pandas.core.frame.DataFrame'>\n",
            "RangeIndex: 1253 entries, 0 to 1252\n",
            "Data columns (total 7 columns):\n",
            " #   Column         Non-Null Count  Dtype  \n",
            "---  ------         --------------  -----  \n",
            " 0   Date           1253 non-null   object \n",
            " 1   Text_Headline  1253 non-null   object \n",
            " 2   Text_Body      1252 non-null   object \n",
            " 3   Commodity      1253 non-null   object \n",
            " 4   Language       1253 non-null   object \n",
            " 5   Value          1253 non-null   float64\n",
            " 6   Label          1253 non-null   object \n",
            "dtypes: float64(1), object(6)\n",
            "memory usage: 68.6+ KB\n"
          ],
          "name": "stdout"
        }
      ]
    },
    {
      "cell_type": "markdown",
      "metadata": {
        "id": "xVgdX8VJuAVG"
      },
      "source": [
        "## **Merge table 1 + Merge table 2**"
      ]
    },
    {
      "cell_type": "code",
      "metadata": {
        "colab": {
          "base_uri": "https://localhost:8080/",
          "height": 844
        },
        "id": "OE-AKIpRymUJ",
        "outputId": "741ae34f-69dc-4ed1-c8f5-d9a550feb7d2"
      },
      "source": [
        "all_merge_tables = pd.merge_ordered(all_merge_table1, all_merge_table2, fill_method=\"ffill\", left_by=\"Date\")\n",
        "all_merge_tables\n"
      ],
      "execution_count": null,
      "outputs": [
        {
          "output_type": "execute_result",
          "data": {
            "text/html": [
              "<div>\n",
              "<style scoped>\n",
              "    .dataframe tbody tr th:only-of-type {\n",
              "        vertical-align: middle;\n",
              "    }\n",
              "\n",
              "    .dataframe tbody tr th {\n",
              "        vertical-align: top;\n",
              "    }\n",
              "\n",
              "    .dataframe thead th {\n",
              "        text-align: right;\n",
              "    }\n",
              "</style>\n",
              "<table border=\"1\" class=\"dataframe\">\n",
              "  <thead>\n",
              "    <tr style=\"text-align: right;\">\n",
              "      <th></th>\n",
              "      <th>Date</th>\n",
              "      <th>Text_Headline</th>\n",
              "      <th>Text_Body</th>\n",
              "      <th>Commodity</th>\n",
              "      <th>Language</th>\n",
              "      <th>Value</th>\n",
              "      <th>Label</th>\n",
              "    </tr>\n",
              "  </thead>\n",
              "  <tbody>\n",
              "    <tr>\n",
              "      <th>0</th>\n",
              "      <td>30-12-2020</td>\n",
              "      <td>Algodão/Cepea: Mesmo com produção recorde e pa...</td>\n",
              "      <td>A produção e a exportação brasileiras de algod...</td>\n",
              "      <td>cotton</td>\n",
              "      <td>pt-br</td>\n",
              "      <td>380.75</td>\n",
              "      <td>Down</td>\n",
              "    </tr>\n",
              "    <tr>\n",
              "      <th>1</th>\n",
              "      <td>30-12-2020</td>\n",
              "      <td>Preço do milho fecha 2020 em alta no Brasil; p...</td>\n",
              "      <td>A quarta-feira (30) chega ao final com os preç...</td>\n",
              "      <td>corn</td>\n",
              "      <td>pt-br</td>\n",
              "      <td>78.65</td>\n",
              "      <td>Down</td>\n",
              "    </tr>\n",
              "    <tr>\n",
              "      <th>2</th>\n",
              "      <td>30-12-2020</td>\n",
              "      <td>Soja acumula alta de quase 40% em 2020 e fecha...</td>\n",
              "      <td>Que 2020 para o mercado da soja, senhoras e se...</td>\n",
              "      <td>soybean</td>\n",
              "      <td>pt-br</td>\n",
              "      <td>144.89</td>\n",
              "      <td>down</td>\n",
              "    </tr>\n",
              "    <tr>\n",
              "      <th>3</th>\n",
              "      <td>29-12-2020</td>\n",
              "      <td>Milho: demandas pontuais e volumes pequenos im...</td>\n",
              "      <td>A terça-feira (29) chega ao final com os preço...</td>\n",
              "      <td>corn</td>\n",
              "      <td>pt-br</td>\n",
              "      <td>78.45</td>\n",
              "      <td>Up</td>\n",
              "    </tr>\n",
              "    <tr>\n",
              "      <th>4</th>\n",
              "      <td>29-12-2020</td>\n",
              "      <td>Soja testa os US$ 13/bushel na Bolsa de Chicag...</td>\n",
              "      <td>Se os US$ 13,00 por bushel eram uma meta para ...</td>\n",
              "      <td>soybean</td>\n",
              "      <td>pt-br</td>\n",
              "      <td>144.73</td>\n",
              "      <td>up</td>\n",
              "    </tr>\n",
              "    <tr>\n",
              "      <th>...</th>\n",
              "      <td>...</td>\n",
              "      <td>...</td>\n",
              "      <td>...</td>\n",
              "      <td>...</td>\n",
              "      <td>...</td>\n",
              "      <td>...</td>\n",
              "      <td>...</td>\n",
              "    </tr>\n",
              "    <tr>\n",
              "      <th>3905</th>\n",
              "      <td>07-01-2015</td>\n",
              "      <td>Milho: Queda na produção de etanol nos EUA pes...</td>\n",
              "      <td>Os principais vencimentos do milho negociados ...</td>\n",
              "      <td>corn</td>\n",
              "      <td>pt-br</td>\n",
              "      <td>28.10</td>\n",
              "      <td>Down</td>\n",
              "    </tr>\n",
              "    <tr>\n",
              "      <th>3906</th>\n",
              "      <td>07-01-2015</td>\n",
              "      <td>Soja: Preços sobem no Brasil e Rio Grande tem ...</td>\n",
              "      <td>Nesta quarta-feira (7), o mercado internaciona...</td>\n",
              "      <td>soybean</td>\n",
              "      <td>pt-br</td>\n",
              "      <td>62.02</td>\n",
              "      <td>down</td>\n",
              "    </tr>\n",
              "    <tr>\n",
              "      <th>3907</th>\n",
              "      <td>06-01-2015</td>\n",
              "      <td>Milho: Frente à expectativa de safra recorde n...</td>\n",
              "      <td>Em uma sessão de extrema volatilidade, os futu...</td>\n",
              "      <td>corn</td>\n",
              "      <td>pt-br</td>\n",
              "      <td>28.20</td>\n",
              "      <td>Down</td>\n",
              "    </tr>\n",
              "    <tr>\n",
              "      <th>3908</th>\n",
              "      <td>06-01-2015</td>\n",
              "      <td>Soja tem mais uma sessão positiva em Chicago e...</td>\n",
              "      <td>De um pregão de estabilidade para fechar o dia...</td>\n",
              "      <td>soybean</td>\n",
              "      <td>pt-br</td>\n",
              "      <td>62.29</td>\n",
              "      <td>down</td>\n",
              "    </tr>\n",
              "    <tr>\n",
              "      <th>3909</th>\n",
              "      <td>05-01-2015</td>\n",
              "      <td>Milho: Na CBOT, mercado encerra sessão com gan...</td>\n",
              "      <td>As cotações futuras do milho negociadas na Bol...</td>\n",
              "      <td>corn</td>\n",
              "      <td>pt-br</td>\n",
              "      <td>28.55</td>\n",
              "      <td>Down</td>\n",
              "    </tr>\n",
              "  </tbody>\n",
              "</table>\n",
              "<p>3910 rows × 7 columns</p>\n",
              "</div>"
            ],
            "text/plain": [
              "            Date  ... Label\n",
              "0     30-12-2020  ...  Down\n",
              "1     30-12-2020  ...  Down\n",
              "2     30-12-2020  ...  down\n",
              "3     29-12-2020  ...    Up\n",
              "4     29-12-2020  ...    up\n",
              "...          ...  ...   ...\n",
              "3905  07-01-2015  ...  Down\n",
              "3906  07-01-2015  ...  down\n",
              "3907  06-01-2015  ...  Down\n",
              "3908  06-01-2015  ...  down\n",
              "3909  05-01-2015  ...  Down\n",
              "\n",
              "[3910 rows x 7 columns]"
            ]
          },
          "metadata": {
            "tags": []
          },
          "execution_count": 161
        }
      ]
    },
    {
      "cell_type": "code",
      "metadata": {
        "id": "H0psGFuK2-aB"
      },
      "source": [
        "all_merge_tables = all_merge_tables.sort_values(by='Date',ascending=True)\n"
      ],
      "execution_count": null,
      "outputs": []
    },
    {
      "cell_type": "code",
      "metadata": {
        "id": "3sA-R3hmo6Dg"
      },
      "source": [
        "all_merge_tables.to_excel('all_merge_tables.xlsx')#salvar em excel"
      ],
      "execution_count": null,
      "outputs": []
    }
  ]
}