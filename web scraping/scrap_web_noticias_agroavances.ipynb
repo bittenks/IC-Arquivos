{
  "nbformat": 4,
  "nbformat_minor": 0,
  "metadata": {
    "colab": {
      "name": " scrap web noticias agroavances.ipynb",
      "provenance": [],
      "collapsed_sections": []
    },
    "kernelspec": {
      "name": "python3",
      "display_name": "Python 3"
    },
    "language_info": {
      "name": "python"
    }
  },
  "cells": [
    {
      "cell_type": "code",
      "metadata": {
        "id": "QDi8aMbdSj9f"
      },
      "source": [
        "from bs4 import BeautifulSoup\n",
        "import requests"
      ],
      "execution_count": null,
      "outputs": []
    },
    {
      "cell_type": "markdown",
      "metadata": {
        "id": "mfCLwbYWPHQ9"
      },
      "source": [
        "### **BUSCANDO OS DADOS**"
      ]
    },
    {
      "cell_type": "code",
      "metadata": {
        "id": "zcEK70oxTQLC"
      },
      "source": [
        "url = 'https://agroavances.com/noticias.php?tipo=1&__pagina__='\n",
        "r = requests.get(url)\n"
      ],
      "execution_count": null,
      "outputs": []
    },
    {
      "cell_type": "code",
      "metadata": {
        "id": "shaBSzZSTfPk"
      },
      "source": [
        "soup = BeautifulSoup(r.content, 'html.parser')"
      ],
      "execution_count": null,
      "outputs": []
    },
    {
      "cell_type": "code",
      "metadata": {
        "id": "rS0qPskuUKVp"
      },
      "source": [
        "soup.find('div',class_ = 'blog-item')"
      ],
      "execution_count": null,
      "outputs": []
    },
    {
      "cell_type": "code",
      "metadata": {
        "id": "h8WJWC1YNv_S"
      },
      "source": [
        "title = soup.find('div',class_ = 'blog-item').h1.text\n",
        "print(title)"
      ],
      "execution_count": null,
      "outputs": []
    },
    {
      "cell_type": "code",
      "metadata": {
        "id": "87vbyrMsPPA-"
      },
      "source": [
        "body = soup.find('div',class_ = 'blog-item').p.text\n",
        "print(body)"
      ],
      "execution_count": null,
      "outputs": []
    },
    {
      "cell_type": "code",
      "metadata": {
        "id": "0mTNwR7vSSIY"
      },
      "source": [
        "soup.find('div',class_ = 'post-inner post-hover').time.text"
      ],
      "execution_count": null,
      "outputs": []
    },
    {
      "cell_type": "code",
      "metadata": {
        "id": "npcn7TlbSeRX"
      },
      "source": [
        "date=soup.find('div',class_ = 'date-wrap').text\n",
        "print(date)"
      ],
      "execution_count": null,
      "outputs": []
    },
    {
      "cell_type": "code",
      "metadata": {
        "id": "UvhgPqjwT8co"
      },
      "source": [
        "todos_elementos = soup.find_all('div',class_ = 'blog-item')"
      ],
      "execution_count": null,
      "outputs": []
    },
    {
      "cell_type": "code",
      "metadata": {
        "id": "dKWNcKkqTRNH"
      },
      "source": [
        "for elemento in todos_elementos:\n",
        "  date =elemento.find('div',class_ = 'date-wrap').text\n",
        "  title = elemento.h1.text\n",
        "  body = elemento.p.text\n",
        "\n",
        "  print(f'date: {date}')\n",
        "  print(f'title: {title}')\n",
        "  print(f'body: {body}')\n",
        "  print('----------------------------------------------------------------------')"
      ],
      "execution_count": null,
      "outputs": []
    },
    {
      "cell_type": "markdown",
      "metadata": {
        "id": "-M74n2X9Xe4h"
      },
      "source": [
        "### **IMPORTANDO PANDAS E PREPARANDO A LISTA**\n",
        "\n"
      ]
    },
    {
      "cell_type": "code",
      "metadata": {
        "id": "KMe1v2wBaikP"
      },
      "source": [
        "import pandas as pd"
      ],
      "execution_count": null,
      "outputs": []
    },
    {
      "cell_type": "code",
      "metadata": {
        "id": "KDd0nu6sOtzH"
      },
      "source": [
        " infoslist = []"
      ],
      "execution_count": null,
      "outputs": []
    },
    {
      "cell_type": "markdown",
      "metadata": {
        "id": "EZQwwlaxO9LN"
      },
      "source": [
        "### **PEGANDO OS DADOS**"
      ]
    },
    {
      "cell_type": "code",
      "metadata": {
        "id": "kERkI78ZLrq3"
      },
      "source": [
        "url = 'https://agroavances.com/noticias.php?tipo=1&__pagina__='\n",
        "\n",
        "for i in range(88):\n",
        "  url2 = url+str(i)\n",
        "  r = requests.get(url2)\n",
        "  print(url2)\n",
        "  soup = BeautifulSoup(r.content, 'html.parser')\n",
        "  todos_elementos = soup.find_all('div',class_ = 'blog-item')\n",
        "\n",
        "  for elemento in todos_elementos:\n",
        "    infos = {\n",
        "    'date' : elemento.find('div',class_ = 'date-wrap').text,\n",
        "    'title' : elemento.h1.text,\n",
        "    'body' : elemento.p.text,\n",
        "    }\n",
        "    infoslist.append(infos)\n",
        "\n",
        "    df = pd.DataFrame(infoslist)\n",
        "    df.to_csv('noticias_agroavances.csv', index=False)\n",
        "    date =elemento.find('div',class_ = 'date-wrap').text\n",
        "    title = elemento.h1.text\n",
        "    body = elemento.p.text\n"
      ],
      "execution_count": null,
      "outputs": []
    }
  ]
}