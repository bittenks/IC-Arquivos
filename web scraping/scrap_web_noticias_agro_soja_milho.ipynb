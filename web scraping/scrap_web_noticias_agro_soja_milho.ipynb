{
  "nbformat": 4,
  "nbformat_minor": 0,
  "metadata": {
    "colab": {
      "name": "scrap web noticias agro_soja_milho.ipynb",
      "provenance": [],
      "collapsed_sections": []
    },
    "kernelspec": {
      "name": "python3",
      "display_name": "Python 3"
    },
    "language_info": {
      "name": "python"
    }
  },
  "cells": [
    {
      "cell_type": "code",
      "metadata": {
        "id": "QDi8aMbdSj9f"
      },
      "source": [
        "from bs4 import BeautifulSoup\n",
        "import requests"
      ],
      "execution_count": 1,
      "outputs": []
    },
    {
      "cell_type": "markdown",
      "metadata": {
        "id": "mnW4XlfWNn6P"
      },
      "source": [
        "### **ENCONTRANDO OS DADOS**"
      ]
    },
    {
      "cell_type": "code",
      "metadata": {
        "id": "zcEK70oxTQLC"
      },
      "source": [
        "url = 'https://www.noticiasagropecuarias.com/category/articulos12/soja/page/'\n",
        "r = requests.get(url)"
      ],
      "execution_count": 2,
      "outputs": []
    },
    {
      "cell_type": "code",
      "metadata": {
        "id": "shaBSzZSTfPk"
      },
      "source": [
        "soup = BeautifulSoup(r.content, 'html.parser')"
      ],
      "execution_count": null,
      "outputs": []
    },
    {
      "cell_type": "code",
      "metadata": {
        "id": "rS0qPskuUKVp"
      },
      "source": [
        "soup.find('div',class_ = 'post-inner post-hover')\n",
        "print(soup)"
      ],
      "execution_count": null,
      "outputs": []
    },
    {
      "cell_type": "code",
      "metadata": {
        "id": "k8vb2lsHNYB6"
      },
      "source": [
        "soup.find('div',class_ = 'post-inner post-hover').h2.text"
      ],
      "execution_count": null,
      "outputs": []
    },
    {
      "cell_type": "code",
      "metadata": {
        "id": "h8WJWC1YNv_S"
      },
      "source": [
        "title = soup.find('div',class_ = 'post-inner post-hover').h2.text\n",
        "print(title)"
      ],
      "execution_count": null,
      "outputs": []
    },
    {
      "cell_type": "code",
      "metadata": {
        "id": "tla5kza-N55Y"
      },
      "source": [
        "soup.find('div',class_ = 'post-inner post-hover').find('div',class_ = 'entry excerpt entry-summary').text"
      ],
      "execution_count": null,
      "outputs": []
    },
    {
      "cell_type": "code",
      "metadata": {
        "id": "87vbyrMsPPA-"
      },
      "source": [
        "body = soup.find('div',class_ = 'post-inner post-hover').find('div',class_ = 'entry excerpt entry-summary').text\n",
        "print(body)"
      ],
      "execution_count": null,
      "outputs": []
    },
    {
      "cell_type": "code",
      "metadata": {
        "id": "0mTNwR7vSSIY"
      },
      "source": [
        "soup.find('div',class_ = 'post-inner post-hover').time.text"
      ],
      "execution_count": null,
      "outputs": []
    },
    {
      "cell_type": "code",
      "metadata": {
        "id": "npcn7TlbSeRX"
      },
      "source": [
        "date=soup.find('div',class_ = 'post-inner post-hover').time.text\n",
        "print(date)"
      ],
      "execution_count": null,
      "outputs": []
    },
    {
      "cell_type": "markdown",
      "metadata": {
        "id": "l31ttmtpNxjN"
      },
      "source": [
        "### **FAZENDO IMPORTAÇÃO DO PANDAS E PREPARANDO A LISTA**"
      ]
    },
    {
      "cell_type": "code",
      "metadata": {
        "id": "j9xGpQmZdnCN"
      },
      "source": [
        "import pandas as pd"
      ],
      "execution_count": 7,
      "outputs": []
    },
    {
      "cell_type": "code",
      "metadata": {
        "id": "3lnWF3rXoTYd"
      },
      "source": [
        "infoslist = []"
      ],
      "execution_count": 5,
      "outputs": []
    },
    {
      "cell_type": "markdown",
      "metadata": {
        "id": "V69OEZKbN6g6"
      },
      "source": [
        "### **SOJA**"
      ]
    },
    {
      "cell_type": "code",
      "metadata": {
        "id": "wBTTz_4pmKQY"
      },
      "source": [
        "url = 'https://www.noticiasagropecuarias.com/category/articulos12/soja/page/'\n",
        "\n",
        "for i in range(88):\n",
        "  url2 = url+str(i)\n",
        "  r = requests.get(url2)\n",
        "  print(url2)\n",
        "  soup = BeautifulSoup(r.content, 'html.parser')\n",
        "  todos_elementos = soup.find_all('div',class_ = 'post-inner post-hover')\n",
        "  \n",
        "\n",
        "  for elemento in todos_elementos:\n",
        "    infos = {\n",
        "    'date' :elemento.time.text,\n",
        "    'title' : elemento.h2.text,\n",
        "    'body' : elemento.find('div',class_ = 'entry excerpt entry-summary').text,\n",
        "    }\n",
        "    infoslist.append(infos)\n",
        "\n",
        "    df = pd.DataFrame(infoslist)\n",
        "    df.to_csv('noticias_agro_soja.csv', index=False)\n",
        "    date =elemento.time.text\n",
        "    title = elemento.h2.text\n",
        "    body = elemento.find('div',class_ = 'entry excerpt entry-summary').text\n",
        "\n",
        " "
      ],
      "execution_count": null,
      "outputs": []
    },
    {
      "cell_type": "markdown",
      "metadata": {
        "id": "XuINkCBmMEBA"
      },
      "source": [
        "### **MILHO**"
      ]
    },
    {
      "cell_type": "code",
      "metadata": {
        "colab": {
          "base_uri": "https://localhost:8080/"
        },
        "id": "9BcVyj60MDMQ",
        "outputId": "7bf8341e-da9b-43a6-c88b-6badf2ea7b15"
      },
      "source": [
        "url = 'https://www.noticiasagropecuarias.com/category/articulos12/maiz/page/'\n",
        "\n",
        "for i in range(70):\n",
        "  url2 = url+str(i)\n",
        "  r = requests.get(url2)\n",
        "  print(url2)\n",
        "  soup = BeautifulSoup(r.content, 'html.parser')\n",
        "  todos_elementos = soup.find_all('div',class_ = 'post-inner post-hover')\n",
        "  \n",
        "\n",
        "  for elemento in todos_elementos:\n",
        "    infos = {\n",
        "    'date' :elemento.time.text,\n",
        "    'title' : elemento.h2.text,\n",
        "    'body' : elemento.find('div',class_ = 'entry excerpt entry-summary').text,\n",
        "    }\n",
        "    infoslist.append(infos)\n",
        "\n",
        "    df = pd.DataFrame(infoslist)\n",
        "    df.to_csv('noticias_agro_milho.csv', index=False)\n",
        "    date =elemento.time.text\n",
        "    title = elemento.h2.text\n",
        "    body = elemento.find('div',class_ = 'entry excerpt entry-summary').text\n",
        "\n"
      ],
      "execution_count": 8,
      "outputs": [
        {
          "output_type": "stream",
          "text": [
            "https://www.noticiasagropecuarias.com/category/articulos12/maiz/page/0\n",
            "https://www.noticiasagropecuarias.com/category/articulos12/maiz/page/1\n",
            "https://www.noticiasagropecuarias.com/category/articulos12/maiz/page/2\n",
            "https://www.noticiasagropecuarias.com/category/articulos12/maiz/page/3\n",
            "https://www.noticiasagropecuarias.com/category/articulos12/maiz/page/4\n",
            "https://www.noticiasagropecuarias.com/category/articulos12/maiz/page/5\n",
            "https://www.noticiasagropecuarias.com/category/articulos12/maiz/page/6\n",
            "https://www.noticiasagropecuarias.com/category/articulos12/maiz/page/7\n",
            "https://www.noticiasagropecuarias.com/category/articulos12/maiz/page/8\n",
            "https://www.noticiasagropecuarias.com/category/articulos12/maiz/page/9\n",
            "https://www.noticiasagropecuarias.com/category/articulos12/maiz/page/10\n",
            "https://www.noticiasagropecuarias.com/category/articulos12/maiz/page/11\n",
            "https://www.noticiasagropecuarias.com/category/articulos12/maiz/page/12\n",
            "https://www.noticiasagropecuarias.com/category/articulos12/maiz/page/13\n",
            "https://www.noticiasagropecuarias.com/category/articulos12/maiz/page/14\n",
            "https://www.noticiasagropecuarias.com/category/articulos12/maiz/page/15\n",
            "https://www.noticiasagropecuarias.com/category/articulos12/maiz/page/16\n",
            "https://www.noticiasagropecuarias.com/category/articulos12/maiz/page/17\n",
            "https://www.noticiasagropecuarias.com/category/articulos12/maiz/page/18\n",
            "https://www.noticiasagropecuarias.com/category/articulos12/maiz/page/19\n",
            "https://www.noticiasagropecuarias.com/category/articulos12/maiz/page/20\n",
            "https://www.noticiasagropecuarias.com/category/articulos12/maiz/page/21\n",
            "https://www.noticiasagropecuarias.com/category/articulos12/maiz/page/22\n",
            "https://www.noticiasagropecuarias.com/category/articulos12/maiz/page/23\n",
            "https://www.noticiasagropecuarias.com/category/articulos12/maiz/page/24\n",
            "https://www.noticiasagropecuarias.com/category/articulos12/maiz/page/25\n",
            "https://www.noticiasagropecuarias.com/category/articulos12/maiz/page/26\n",
            "https://www.noticiasagropecuarias.com/category/articulos12/maiz/page/27\n",
            "https://www.noticiasagropecuarias.com/category/articulos12/maiz/page/28\n",
            "https://www.noticiasagropecuarias.com/category/articulos12/maiz/page/29\n",
            "https://www.noticiasagropecuarias.com/category/articulos12/maiz/page/30\n",
            "https://www.noticiasagropecuarias.com/category/articulos12/maiz/page/31\n",
            "https://www.noticiasagropecuarias.com/category/articulos12/maiz/page/32\n",
            "https://www.noticiasagropecuarias.com/category/articulos12/maiz/page/33\n",
            "https://www.noticiasagropecuarias.com/category/articulos12/maiz/page/34\n",
            "https://www.noticiasagropecuarias.com/category/articulos12/maiz/page/35\n",
            "https://www.noticiasagropecuarias.com/category/articulos12/maiz/page/36\n",
            "https://www.noticiasagropecuarias.com/category/articulos12/maiz/page/37\n",
            "https://www.noticiasagropecuarias.com/category/articulos12/maiz/page/38\n",
            "https://www.noticiasagropecuarias.com/category/articulos12/maiz/page/39\n",
            "https://www.noticiasagropecuarias.com/category/articulos12/maiz/page/40\n",
            "https://www.noticiasagropecuarias.com/category/articulos12/maiz/page/41\n",
            "https://www.noticiasagropecuarias.com/category/articulos12/maiz/page/42\n",
            "https://www.noticiasagropecuarias.com/category/articulos12/maiz/page/43\n",
            "https://www.noticiasagropecuarias.com/category/articulos12/maiz/page/44\n",
            "https://www.noticiasagropecuarias.com/category/articulos12/maiz/page/45\n",
            "https://www.noticiasagropecuarias.com/category/articulos12/maiz/page/46\n",
            "https://www.noticiasagropecuarias.com/category/articulos12/maiz/page/47\n",
            "https://www.noticiasagropecuarias.com/category/articulos12/maiz/page/48\n",
            "https://www.noticiasagropecuarias.com/category/articulos12/maiz/page/49\n",
            "https://www.noticiasagropecuarias.com/category/articulos12/maiz/page/50\n",
            "https://www.noticiasagropecuarias.com/category/articulos12/maiz/page/51\n",
            "https://www.noticiasagropecuarias.com/category/articulos12/maiz/page/52\n",
            "https://www.noticiasagropecuarias.com/category/articulos12/maiz/page/53\n",
            "https://www.noticiasagropecuarias.com/category/articulos12/maiz/page/54\n",
            "https://www.noticiasagropecuarias.com/category/articulos12/maiz/page/55\n",
            "https://www.noticiasagropecuarias.com/category/articulos12/maiz/page/56\n",
            "https://www.noticiasagropecuarias.com/category/articulos12/maiz/page/57\n",
            "https://www.noticiasagropecuarias.com/category/articulos12/maiz/page/58\n",
            "https://www.noticiasagropecuarias.com/category/articulos12/maiz/page/59\n",
            "https://www.noticiasagropecuarias.com/category/articulos12/maiz/page/60\n",
            "https://www.noticiasagropecuarias.com/category/articulos12/maiz/page/61\n",
            "https://www.noticiasagropecuarias.com/category/articulos12/maiz/page/62\n",
            "https://www.noticiasagropecuarias.com/category/articulos12/maiz/page/63\n",
            "https://www.noticiasagropecuarias.com/category/articulos12/maiz/page/64\n",
            "https://www.noticiasagropecuarias.com/category/articulos12/maiz/page/65\n",
            "https://www.noticiasagropecuarias.com/category/articulos12/maiz/page/66\n",
            "https://www.noticiasagropecuarias.com/category/articulos12/maiz/page/67\n",
            "https://www.noticiasagropecuarias.com/category/articulos12/maiz/page/68\n",
            "https://www.noticiasagropecuarias.com/category/articulos12/maiz/page/69\n"
          ],
          "name": "stdout"
        }
      ]
    }
  ]
}